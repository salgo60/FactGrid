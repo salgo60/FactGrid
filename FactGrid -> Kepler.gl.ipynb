{
 "cells": [
  {
   "cell_type": "markdown",
   "metadata": {},
   "source": [
    "# Factgrid -> Kepler.gl \n",
    "version 0.2 \n",
    "* This [Notebook](https://github.com/salgo60/FactGrid/blob/master/FactGrid%20-%3E%20Kepler.gl.ipynb)  \n",
    "  * the vision is to create something like [this](https://database.factgrid.de/tools/illuminati.html) in this Notebook\n",
    "  * [video](https://www.youtube.com/watch?v=WfRQQJ0vO44) showing how binder is started and used\n",
    "\n",
    "\n",
    "OBS right now you need to **install [Jupiter Notebook](https://jupyter.org/install.html)** on your local machine to run Kepler.gl we have not found a way of getting it work using e.g. [binder](https://mybinder.org/). The sparql -> [pandas](https://pandas.pydata.org/) part works using [binder](https://mybinder.org/) but not [Kepler.gl](https://pandas.pydata.org/).... \n",
    "* see [question asked in binder discussion about how to get this work](https://discourse.jupyter.org/t/kepler-gl-using-binder/5090)\n",
    "\n",
    "### Misc links\n",
    "\n",
    "* [The Illuminati Correspondence Fast Forward](https://blog.factgrid.de/archives/1695) the blogpost we should try to do in Jupyter\n",
    "* [Create a Quick Web Map with Kepler.gl and Jupyter Notebook](https://spatial.blog.ryerson.ca/2019/11/18/create-quick-dashboard-with-kepler-gl-and-jupyter-notebook/)\n",
    "* Video [Visualization Nights - Introduction to Kepler.gl](https://www.youtube.com/watch?v=b8wKEY4dlvg)\n",
    "* [From Beautiful Maps to Actionable Insights: Introducing kepler.gl, Uber’s Open Source Geospatial ToolboxThe](https://eng.uber.com/keplergl/)\n",
    "* [Kepler.GL & Jupyter Notebooks: Geospatial Data Visualization with Uber’s opensource Kepler.GL](https://towardsdatascience.com/kepler-gl-jupyter-notebooks-geospatial-data-visualization-with-ubers-opensource-kepler-gl-b1c2423d066f)\n",
    "* [Introducing kepler.gl for Jupyter](https://medium.com/vis-gl/introducing-kepler-gl-for-jupyter-f72d41659fbf)\n",
    "* [Learn How to Visualize Geospatial Data in Jupyter using kepler.gl](https://www.analyticsvidhya.com/blog/2020/06/learn-visualize-geospatial-data-jupyter-kepler/)  \n"
   ]
  },
  {
   "cell_type": "code",
   "execution_count": 3,
   "metadata": {},
   "outputs": [],
   "source": [
    "import json,sys\n",
    "import pandas as pd \n",
    "from SPARQLWrapper import SPARQLWrapper, JSON\n",
    "endpointFactgrid_url = \"https://database.factgrid.de/sparql\"\n",
    "\n",
    "def get_sparql_dataframe(endpoint_url, query):\n",
    "    \"\"\"\n",
    "    Helper function to convert SPARQL results into a Pandas data frame.\n",
    "    \"\"\"\n",
    "    user_agent = \"salgo60/%s.%s\" % (sys.version_info[0], sys.version_info[1])\n",
    " \n",
    "    sparql = SPARQLWrapper(endpoint_url, agent=user_agent)\n",
    "    sparql.setQuery(query)\n",
    "    sparql.setReturnFormat(JSON)\n",
    "    result = sparql.query()\n",
    "\n",
    "    processed_results = json.load(result.response)\n",
    "    cols = processed_results['head']['vars']\n",
    "\n",
    "    out = []\n",
    "    for row in processed_results['results']['bindings']:\n",
    "        item = []\n",
    "        for c in cols:\n",
    "            item.append(row.get(c, {}).get('value'))\n",
    "        out.append(item)\n",
    "\n",
    "    return pd.DataFrame(out, columns=cols)"
   ]
  },
  {
   "cell_type": "markdown",
   "metadata": {},
   "source": [
    "1. Get the SPARQL"
   ]
  },
  {
   "cell_type": "code",
   "execution_count": 4,
   "metadata": {},
   "outputs": [],
   "source": [
    "queryFactGrid = \"\"\"SELECT ?item ?itemLabel ?date ?origin ?originLabel ?origin_latitude ?origin_longitude ?destination ?destinationLabel ?destination_latitude ?destination_longitude  WHERE {\n",
    "  SERVICE wikibase:label { bd:serviceParam wikibase:language \"en\". }\n",
    "  ?item wdt:P2 wd:Q10671.\n",
    "  ?item wdt:P95 ?origin.\n",
    "  ?origin p:P48 ?origin_coordinate.\n",
    "  ?origin_coordinate psv:P48 ?origin_node.\n",
    "  ?origin_node wikibase:geoLatitude ?origin_latitude.\n",
    "  ?origin_node wikibase:geoLongitude ?origin_longitude.\n",
    "  ?item wdt:P97 wd:Q10677.\n",
    "  ?item p:P28 ?recipient_statement.\n",
    "  ?recipient_statement ps:P28 ?recipient.\n",
    "  ?recipient_statement pq:P29 ?destination.\n",
    "  ?destination p:P48 ?destination_coordinate.\n",
    "  ?destination_coordinate psv:P48 ?destination_node.\n",
    "  ?destination_node wikibase:geoLatitude ?destination_latitude.\n",
    "  ?destination_node wikibase:geoLongitude ?destination_longitude.\n",
    "  ?item wdt:P106 ?date.\n",
    "}\"\"\"\n"
   ]
  },
  {
   "cell_type": "markdown",
   "metadata": {},
   "source": [
    "2. Run the SPARQL"
   ]
  },
  {
   "cell_type": "code",
   "execution_count": 5,
   "metadata": {},
   "outputs": [],
   "source": [
    "resultsFactGrid = get_sparql_dataframe(endpointFactgrid_url, queryFactGrid)\n"
   ]
  },
  {
   "cell_type": "markdown",
   "metadata": {},
   "source": [
    "3. Check result"
   ]
  },
  {
   "cell_type": "code",
   "execution_count": 7,
   "metadata": {},
   "outputs": [
    {
     "name": "stdout",
     "output_type": "stream",
     "text": [
      "<class 'pandas.core.frame.DataFrame'>\n",
      "RangeIndex: 3091 entries, 0 to 3090\n",
      "Data columns (total 11 columns):\n",
      "item                     3091 non-null object\n",
      "itemLabel                3091 non-null object\n",
      "date                     3091 non-null object\n",
      "origin                   3091 non-null object\n",
      "originLabel              3091 non-null object\n",
      "origin_latitude          3091 non-null object\n",
      "origin_longitude         3091 non-null object\n",
      "destination              3091 non-null object\n",
      "destinationLabel         3091 non-null object\n",
      "destination_latitude     3091 non-null object\n",
      "destination_longitude    3091 non-null object\n",
      "dtypes: object(11)\n",
      "memory usage: 265.8+ KB\n"
     ]
    }
   ],
   "source": [
    "resultsFactGrid.info()"
   ]
  },
  {
   "cell_type": "markdown",
   "metadata": {},
   "source": [
    "4. Change data types"
   ]
  },
  {
   "cell_type": "code",
   "execution_count": 8,
   "metadata": {},
   "outputs": [
    {
     "name": "stdout",
     "output_type": "stream",
     "text": [
      "<class 'pandas.core.frame.DataFrame'>\n",
      "RangeIndex: 3091 entries, 0 to 3090\n",
      "Data columns (total 11 columns):\n",
      "item                     3091 non-null object\n",
      "itemLabel                3091 non-null object\n",
      "date                     3091 non-null datetime64[ns, UTC]\n",
      "origin                   3091 non-null object\n",
      "originLabel              3091 non-null object\n",
      "origin_latitude          3091 non-null float64\n",
      "origin_longitude         3091 non-null float64\n",
      "destination              3091 non-null object\n",
      "destinationLabel         3091 non-null object\n",
      "destination_latitude     3091 non-null float64\n",
      "destination_longitude    3091 non-null float64\n",
      "dtypes: datetime64[ns, UTC](1), float64(4), object(6)\n",
      "memory usage: 265.8+ KB\n"
     ]
    }
   ],
   "source": [
    "resultsFactGrid = get_sparql_dataframe(endpointFactgrid_url, queryFactGrid)\n",
    "resultsFactGrid['origin_latitude'] = resultsFactGrid[['origin_latitude']].astype(float).values\n",
    "resultsFactGrid['origin_longitude'] = resultsFactGrid[['origin_longitude']].astype(float).values\n",
    "resultsFactGrid['destination_latitude'] = resultsFactGrid[['destination_latitude']].astype(float).values\n",
    "resultsFactGrid['destination_longitude'] = resultsFactGrid[['destination_longitude']].astype(float).values\n",
    "resultsFactGrid['date'] = pd.to_datetime(resultsFactGrid['date'])\n",
    "resultsFactGrid.info() "
   ]
  },
  {
   "cell_type": "markdown",
   "metadata": {},
   "source": [
    "5. Load the data to Kepler.gl    \n",
    "\n",
    "**OBS** this part works only if you run [Jupiter Notebook](https://jupyter.org/install.html) on your local machine\n",
    "* see [question in binder discussion](https://discourse.jupyter.org/t/kepler-gl-using-binder/5090) \n",
    "** maybe this **is solved** we now have just \"Geometry column does not contain geometry.\" \n",
    "\n",
    "your current map configuration\n",
    "* about saving the [config in Kepler.gl](https://docs.kepler.gl/docs/keplergl-jupyter#5-save-and-load-config)"
   ]
  },
  {
   "cell_type": "code",
   "execution_count": 10,
   "metadata": {},
   "outputs": [
    {
     "name": "stdout",
     "output_type": "stream",
     "text": [
      "User Guide: https://docs.kepler.gl/docs/keplergl-jupyter\n"
     ]
    },
    {
     "data": {
      "application/vnd.jupyter.widget-view+json": {
       "model_id": "d6397189f4ca4c4caf0c943c9b15e197",
       "version_major": 2,
       "version_minor": 0
      },
      "text/plain": [
       "KeplerGl(data={'The Illuminati Correspondence ': {'index': [0, 1, 2, 3, 4, 5, 6, 7, 8, 9, 10, 11, 12, 13, 14, …"
      ]
     },
     "metadata": {},
     "output_type": "display_data"
    }
   ],
   "source": [
    "#Show data in Kepler.gl map is nor shown in GITHUB \n",
    "import geopandas as gpd   \n",
    "from keplergl import KeplerGl #importing KeplerGl\n",
    "gdf = gpd.GeoDataFrame(resultsFactGrid, geometry=gpd.points_from_xy(resultsFactGrid.origin_latitude, resultsFactGrid.origin_latitude))\n",
    "Illuminati1 = KeplerGl(height=600, width=800)  \n",
    "Illuminati1.add_data(data=gdf, name=\"The Illuminati Correspondence \") \n",
    "Illuminati1 #show the map not seen when file uploaded to GITHUB \n"
   ]
  },
  {
   "cell_type": "markdown",
   "metadata": {},
   "source": [
    "More about config and saving of kepler.gl\n",
    "* [Save and export](https://docs.kepler.gl/docs/user-guides/k-save-and-export)\n",
    "\n",
    "More links \n",
    "* [How to Create Eye-Catching Maps With Python and Kepler](https://medium.com/nightingale/how-to-create-eye-catching-maps-with-python-and-kepler-gl-e7e897eff8ac#fe6b-d40ec8d73bab)\n",
    "* The Programming Historian today: [Introduction to Jupyter Notebooks](https://programminghistorian.org/en/lessons/jupyter-notebooks)"
   ]
  },
  {
   "cell_type": "code",
   "execution_count": null,
   "metadata": {},
   "outputs": [],
   "source": []
  }
 ],
 "metadata": {
  "kernelspec": {
   "display_name": "Python 3",
   "language": "python",
   "name": "python3"
  },
  "language_info": {
   "codemirror_mode": {
    "name": "ipython",
    "version": 3
   },
   "file_extension": ".py",
   "mimetype": "text/x-python",
   "name": "python",
   "nbconvert_exporter": "python",
   "pygments_lexer": "ipython3",
   "version": "3.8.0"
  }
 },
 "nbformat": 4,
 "nbformat_minor": 4
}
