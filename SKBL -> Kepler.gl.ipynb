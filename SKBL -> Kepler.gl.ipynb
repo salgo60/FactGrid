{
 "cells": [
  {
   "cell_type": "markdown",
   "metadata": {},
   "source": [
    "# SKBL -> Kepler.gl \n",
    "version 0.2 \n",
    "* This [Notebook](https://github.com/salgo60/FactGrid/blob/master/SKBL -> Kepler.gl.gl.ipynb)  \n",
    "  * the vision is to create something like [this](https://database.factgrid.de/tools/illuminati.html) in this Notebook but for SKBL\n",
    "  * [video](https://www.youtube.com/watch?v=WfRQQJ0vO44) showing how binder is started and used\n",
    "\n",
    "\n",
    "OBS right now you need to **install [Jupiter Notebook](https://jupyter.org/install.html)** on your local machine to run Kepler.gl we have not found a way of getting it work using e.g. [binder](https://mybinder.org/). The sparql -> [pandas](https://pandas.pydata.org/) part works using [binder](https://mybinder.org/) but not [Kepler.gl](https://pandas.pydata.org/).... \n",
    "\n",
    "### Misc links\n",
    "\n",
    "* [The Illuminati Correspondence Fast Forward](https://blog.factgrid.de/archives/1695) the blogpost we should try to do in Jupyter\n",
    "* [Create a Quick Web Map with Kepler.gl and Jupyter Notebook](https://spatial.blog.ryerson.ca/2019/11/18/create-quick-dashboard-with-kepler-gl-and-jupyter-notebook/)\n",
    "* Video [Visualization Nights - Introduction to Kepler.gl](https://www.youtube.com/watch?v=b8wKEY4dlvg)\n",
    "* [From Beautiful Maps to Actionable Insights: Introducing kepler.gl, Uber’s Open Source Geospatial ToolboxThe](https://eng.uber.com/keplergl/)\n",
    "* [Kepler.GL & Jupyter Notebooks: Geospatial Data Visualization with Uber’s opensource Kepler.GL](https://towardsdatascience.com/kepler-gl-jupyter-notebooks-geospatial-data-visualization-with-ubers-opensource-kepler-gl-b1c2423d066f)\n",
    "* [Introducing kepler.gl for Jupyter](https://medium.com/vis-gl/introducing-kepler-gl-for-jupyter-f72d41659fbf)\n",
    "* [Learn How to Visualize Geospatial Data in Jupyter using kepler.gl](https://www.analyticsvidhya.com/blog/2020/06/learn-visualize-geospatial-data-jupyter-kepler/)  \n",
    "* New Python utility package [wikidata2df](https://github.com/jvfe/wikidata2df)\n"
   ]
  },
  {
   "cell_type": "code",
   "execution_count": 1,
   "metadata": {},
   "outputs": [],
   "source": [
    "import json,sys\n",
    "import pandas as pd \n",
    "from SPARQLWrapper import SPARQLWrapper, JSON\n",
    "endpointWD_url = \"https://query.wikidata.org/sparql\"\n",
    "\n",
    "def get_sparql_dataframe(endpoint_url, query):\n",
    "    \"\"\"\n",
    "    Helper function to convert SPARQL results into a Pandas data frame.\n",
    "    \"\"\"\n",
    "    user_agent = \"salgo60/%s.%s\" % (sys.version_info[0], sys.version_info[1])\n",
    " \n",
    "    sparql = SPARQLWrapper(endpoint_url, agent=user_agent)\n",
    "    sparql.setQuery(query)\n",
    "    sparql.setReturnFormat(JSON)\n",
    "    result = sparql.query()\n",
    "\n",
    "    processed_results = json.load(result.response)\n",
    "    cols = processed_results['head']['vars']\n",
    "\n",
    "    out = []\n",
    "    for row in processed_results['results']['bindings']:\n",
    "        item = []\n",
    "        for c in cols:\n",
    "            item.append(row.get(c, {}).get('value'))\n",
    "        out.append(item)\n",
    "\n",
    "    return pd.DataFrame(out, columns=cols)"
   ]
  },
  {
   "cell_type": "markdown",
   "metadata": {},
   "source": [
    "1. Get the SPARQL"
   ]
  },
  {
   "cell_type": "code",
   "execution_count": 2,
   "metadata": {},
   "outputs": [],
   "source": [
    "querySKBL= \"\"\"SELECT ?item ?itemLabel ?date ?origin ?originLabel \n",
    " ?origin_latitude ?origin_longitude ?destination ?destinationLabel \n",
    "  ?destination_latitude ?destination_longitude \n",
    "  ?SKBL WHERE {\n",
    "  SERVICE wikibase:label { bd:serviceParam wikibase:language \"sv,en\". }\n",
    "  ?item wdt:P4963 ?SKBLid. \n",
    "  BIND(URI(CONCAT(\"https://www.skbl.se/sv/artikel/\",?SKBLid)) AS ?SKBL) \n",
    "  ?item wdt:P569 ?date.\n",
    "  ?item wdt:P19 ?origin.\n",
    "  ?origin p:P625 [\n",
    "          psv:P625 [\n",
    "             wikibase:geoLatitude ?origin_latitude ;\n",
    "             wikibase:geoLongitude ?origin_longitude \n",
    "           ] \n",
    "         ].  \n",
    "  ?item wdt:P20 ?destination.\n",
    "  ?destination p:P625 [\n",
    "          psv:P625 [\n",
    "             wikibase:geoLatitude ?destination_latitude ;\n",
    "             wikibase:geoLongitude ?destination_longitude \n",
    "           ] \n",
    "         ]\n",
    "}\"\"\"\n"
   ]
  },
  {
   "cell_type": "markdown",
   "metadata": {},
   "source": [
    "2. Run the SPARQL"
   ]
  },
  {
   "cell_type": "code",
   "execution_count": 3,
   "metadata": {},
   "outputs": [],
   "source": [
    "resultsSKBL = get_sparql_dataframe(endpointWD_url, querySKBL)\n"
   ]
  },
  {
   "cell_type": "markdown",
   "metadata": {},
   "source": [
    "3. Check result"
   ]
  },
  {
   "cell_type": "code",
   "execution_count": 4,
   "metadata": {},
   "outputs": [
    {
     "name": "stdout",
     "output_type": "stream",
     "text": [
      "<class 'pandas.core.frame.DataFrame'>\n",
      "RangeIndex: 1220 entries, 0 to 1219\n",
      "Data columns (total 12 columns):\n",
      "item                     1220 non-null object\n",
      "itemLabel                1220 non-null object\n",
      "date                     1220 non-null object\n",
      "origin                   1220 non-null object\n",
      "originLabel              1220 non-null object\n",
      "origin_latitude          1220 non-null object\n",
      "origin_longitude         1220 non-null object\n",
      "destination              1220 non-null object\n",
      "destinationLabel         1220 non-null object\n",
      "destination_latitude     1220 non-null object\n",
      "destination_longitude    1220 non-null object\n",
      "SKBL                     1220 non-null object\n",
      "dtypes: object(12)\n",
      "memory usage: 114.5+ KB\n"
     ]
    }
   ],
   "source": [
    "resultsSKBL.info()"
   ]
  },
  {
   "cell_type": "markdown",
   "metadata": {},
   "source": [
    "4. Change data types"
   ]
  },
  {
   "cell_type": "code",
   "execution_count": 10,
   "metadata": {},
   "outputs": [
    {
     "name": "stdout",
     "output_type": "stream",
     "text": [
      "<class 'pandas.core.frame.DataFrame'>\n",
      "RangeIndex: 1220 entries, 0 to 1219\n",
      "Data columns (total 12 columns):\n",
      "item                     1220 non-null object\n",
      "itemLabel                1220 non-null object\n",
      "date                     1220 non-null object\n",
      "origin                   1220 non-null object\n",
      "originLabel              1220 non-null object\n",
      "origin_latitude          1220 non-null float64\n",
      "origin_longitude         1220 non-null float64\n",
      "destination              1220 non-null object\n",
      "destinationLabel         1220 non-null object\n",
      "destination_latitude     1220 non-null float64\n",
      "destination_longitude    1220 non-null float64\n",
      "SKBL                     1220 non-null object\n",
      "dtypes: float64(4), object(8)\n",
      "memory usage: 114.5+ KB\n"
     ]
    }
   ],
   "source": [
    "resultsSKBL['origin_latitude'] = resultsSKBL[['origin_latitude']].astype(float).values\n",
    "resultsSKBL['origin_longitude'] = resultsSKBL[['origin_longitude']].astype(float).values\n",
    "resultsSKBL['destination_latitude'] = resultsSKBL[['destination_latitude']].astype(float).values\n",
    "resultsSKBL['destination_longitude'] = resultsSKBL[['destination_longitude']].astype(float).values\n",
    "resultsSKBL.info() "
   ]
  },
  {
   "cell_type": "code",
   "execution_count": 11,
   "metadata": {},
   "outputs": [
    {
     "data": {
      "text/html": [
       "<div>\n",
       "<style scoped>\n",
       "    .dataframe tbody tr th:only-of-type {\n",
       "        vertical-align: middle;\n",
       "    }\n",
       "\n",
       "    .dataframe tbody tr th {\n",
       "        vertical-align: top;\n",
       "    }\n",
       "\n",
       "    .dataframe thead th {\n",
       "        text-align: right;\n",
       "    }\n",
       "</style>\n",
       "<table border=\"1\" class=\"dataframe\">\n",
       "  <thead>\n",
       "    <tr style=\"text-align: right;\">\n",
       "      <th></th>\n",
       "      <th>item</th>\n",
       "      <th>itemLabel</th>\n",
       "      <th>date</th>\n",
       "      <th>origin</th>\n",
       "      <th>originLabel</th>\n",
       "      <th>origin_latitude</th>\n",
       "      <th>origin_longitude</th>\n",
       "      <th>destination</th>\n",
       "      <th>destinationLabel</th>\n",
       "      <th>destination_latitude</th>\n",
       "      <th>destination_longitude</th>\n",
       "      <th>SKBL</th>\n",
       "    </tr>\n",
       "  </thead>\n",
       "  <tbody>\n",
       "    <tr>\n",
       "      <th>0</th>\n",
       "      <td>http://www.wikidata.org/entity/Q4949708</td>\n",
       "      <td>Esther Gehlin</td>\n",
       "      <td>1892-03-24T00:00:00Z</td>\n",
       "      <td>http://www.wikidata.org/entity/Q1748</td>\n",
       "      <td>Köpenhamn</td>\n",
       "      <td>55.676111</td>\n",
       "      <td>12.568889</td>\n",
       "      <td>http://www.wikidata.org/entity/Q25411</td>\n",
       "      <td>Helsingborg</td>\n",
       "      <td>56.042412</td>\n",
       "      <td>12.720996</td>\n",
       "      <td>https://www.skbl.se/sv/artikel/EstherGehlin</td>\n",
       "    </tr>\n",
       "    <tr>\n",
       "      <th>1</th>\n",
       "      <td>http://www.wikidata.org/entity/Q4956908</td>\n",
       "      <td>Barbro Johansson</td>\n",
       "      <td>1912-09-25T00:00:00Z</td>\n",
       "      <td>http://www.wikidata.org/entity/Q2211</td>\n",
       "      <td>Malmö</td>\n",
       "      <td>55.593189</td>\n",
       "      <td>13.021423</td>\n",
       "      <td>http://www.wikidata.org/entity/Q25286</td>\n",
       "      <td>Uppsala</td>\n",
       "      <td>59.849761</td>\n",
       "      <td>17.638947</td>\n",
       "      <td>https://www.skbl.se/sv/artikel/BarbroJohansson</td>\n",
       "    </tr>\n",
       "    <tr>\n",
       "      <th>2</th>\n",
       "      <td>http://www.wikidata.org/entity/Q4933592</td>\n",
       "      <td>Margit Abenius</td>\n",
       "      <td>1899-07-14T00:00:00Z</td>\n",
       "      <td>http://www.wikidata.org/entity/Q935348</td>\n",
       "      <td>Orsa</td>\n",
       "      <td>61.090147</td>\n",
       "      <td>14.628894</td>\n",
       "      <td>http://www.wikidata.org/entity/Q25286</td>\n",
       "      <td>Uppsala</td>\n",
       "      <td>59.849761</td>\n",
       "      <td>17.638947</td>\n",
       "      <td>https://www.skbl.se/sv/artikel/MargitAbenius</td>\n",
       "    </tr>\n",
       "    <tr>\n",
       "      <th>3</th>\n",
       "      <td>http://www.wikidata.org/entity/Q18238701</td>\n",
       "      <td>Hilda Ericsson</td>\n",
       "      <td>1860-08-03T00:00:00Z</td>\n",
       "      <td>http://www.wikidata.org/entity/Q10519255</td>\n",
       "      <td>Hedvig Eleonora församling</td>\n",
       "      <td>59.335603</td>\n",
       "      <td>18.081128</td>\n",
       "      <td>http://www.wikidata.org/entity/Q10519255</td>\n",
       "      <td>Hedvig Eleonora församling</td>\n",
       "      <td>59.335603</td>\n",
       "      <td>18.081128</td>\n",
       "      <td>https://www.skbl.se/sv/artikel/HildaEricsson</td>\n",
       "    </tr>\n",
       "    <tr>\n",
       "      <th>4</th>\n",
       "      <td>http://www.wikidata.org/entity/Q15695053</td>\n",
       "      <td>Gun Bergman</td>\n",
       "      <td>1916-10-28T00:00:00Z</td>\n",
       "      <td>http://www.wikidata.org/entity/Q25413</td>\n",
       "      <td>Linköping</td>\n",
       "      <td>58.409418</td>\n",
       "      <td>15.625656</td>\n",
       "      <td>http://www.wikidata.org/entity/Q10519255</td>\n",
       "      <td>Hedvig Eleonora församling</td>\n",
       "      <td>59.335603</td>\n",
       "      <td>18.081128</td>\n",
       "      <td>https://www.skbl.se/sv/artikel/GunBergman</td>\n",
       "    </tr>\n",
       "    <tr>\n",
       "      <th>...</th>\n",
       "      <td>...</td>\n",
       "      <td>...</td>\n",
       "      <td>...</td>\n",
       "      <td>...</td>\n",
       "      <td>...</td>\n",
       "      <td>...</td>\n",
       "      <td>...</td>\n",
       "      <td>...</td>\n",
       "      <td>...</td>\n",
       "      <td>...</td>\n",
       "      <td>...</td>\n",
       "      <td>...</td>\n",
       "    </tr>\n",
       "    <tr>\n",
       "      <th>1215</th>\n",
       "      <td>http://www.wikidata.org/entity/Q4960837</td>\n",
       "      <td>Mathilda Langlet</td>\n",
       "      <td>1832-11-08T00:00:00Z</td>\n",
       "      <td>http://www.wikidata.org/entity/Q10466076</td>\n",
       "      <td>Dalarö församling</td>\n",
       "      <td>59.130556</td>\n",
       "      <td>18.405833</td>\n",
       "      <td>http://www.wikidata.org/entity/Q10674865</td>\n",
       "      <td>Spetebyhall</td>\n",
       "      <td>58.995000</td>\n",
       "      <td>16.416389</td>\n",
       "      <td>https://www.skbl.se/sv/artikel/MathildaLanglet</td>\n",
       "    </tr>\n",
       "    <tr>\n",
       "      <th>1216</th>\n",
       "      <td>http://www.wikidata.org/entity/Q96694766</td>\n",
       "      <td>Alfa Olsson</td>\n",
       "      <td>1914-07-24T00:00:00Z</td>\n",
       "      <td>http://www.wikidata.org/entity/Q27455</td>\n",
       "      <td>Kungälv</td>\n",
       "      <td>57.872345</td>\n",
       "      <td>11.975785</td>\n",
       "      <td>http://www.wikidata.org/entity/Q27455</td>\n",
       "      <td>Kungälv</td>\n",
       "      <td>57.872345</td>\n",
       "      <td>11.975785</td>\n",
       "      <td>https://www.skbl.se/sv/artikel/AlfaSofiaOlsson</td>\n",
       "    </tr>\n",
       "    <tr>\n",
       "      <th>1217</th>\n",
       "      <td>http://www.wikidata.org/entity/Q4948018</td>\n",
       "      <td>Eddie Figge</td>\n",
       "      <td>1904-02-04T00:00:00Z</td>\n",
       "      <td>http://www.wikidata.org/entity/Q10659387</td>\n",
       "      <td>S:t Görans församling</td>\n",
       "      <td>59.334128</td>\n",
       "      <td>18.027472</td>\n",
       "      <td>http://www.wikidata.org/entity/Q3433770</td>\n",
       "      <td>Adolf Fredriks församling</td>\n",
       "      <td>59.337944</td>\n",
       "      <td>18.060111</td>\n",
       "      <td>https://www.skbl.se/sv/artikel/EddieFigge</td>\n",
       "    </tr>\n",
       "    <tr>\n",
       "      <th>1218</th>\n",
       "      <td>http://www.wikidata.org/entity/Q4953537</td>\n",
       "      <td>Elli Hemberg</td>\n",
       "      <td>1896-11-13T00:00:00Z</td>\n",
       "      <td>http://www.wikidata.org/entity/Q58674640</td>\n",
       "      <td>Skövde stadsförsamling</td>\n",
       "      <td>58.389200</td>\n",
       "      <td>13.847200</td>\n",
       "      <td>http://www.wikidata.org/entity/Q3433770</td>\n",
       "      <td>Adolf Fredriks församling</td>\n",
       "      <td>59.337944</td>\n",
       "      <td>18.060111</td>\n",
       "      <td>https://www.skbl.se/sv/artikel/ElliHemberg</td>\n",
       "    </tr>\n",
       "    <tr>\n",
       "      <th>1219</th>\n",
       "      <td>http://www.wikidata.org/entity/Q4975150</td>\n",
       "      <td>Rock-Olga</td>\n",
       "      <td>1940-03-16T00:00:00Z</td>\n",
       "      <td>http://www.wikidata.org/entity/Q25748</td>\n",
       "      <td>Gävle</td>\n",
       "      <td>60.674833</td>\n",
       "      <td>17.144389</td>\n",
       "      <td>http://www.wikidata.org/entity/Q26040</td>\n",
       "      <td>Borås</td>\n",
       "      <td>57.717104</td>\n",
       "      <td>12.945726</td>\n",
       "      <td>https://www.skbl.se/sv/artikel/BirgitMariaMagn...</td>\n",
       "    </tr>\n",
       "  </tbody>\n",
       "</table>\n",
       "<p>1220 rows × 12 columns</p>\n",
       "</div>"
      ],
      "text/plain": [
       "                                          item  ...                                               SKBL\n",
       "0      http://www.wikidata.org/entity/Q4949708  ...        https://www.skbl.se/sv/artikel/EstherGehlin\n",
       "1      http://www.wikidata.org/entity/Q4956908  ...     https://www.skbl.se/sv/artikel/BarbroJohansson\n",
       "2      http://www.wikidata.org/entity/Q4933592  ...       https://www.skbl.se/sv/artikel/MargitAbenius\n",
       "3     http://www.wikidata.org/entity/Q18238701  ...       https://www.skbl.se/sv/artikel/HildaEricsson\n",
       "4     http://www.wikidata.org/entity/Q15695053  ...          https://www.skbl.se/sv/artikel/GunBergman\n",
       "...                                        ...  ...                                                ...\n",
       "1215   http://www.wikidata.org/entity/Q4960837  ...     https://www.skbl.se/sv/artikel/MathildaLanglet\n",
       "1216  http://www.wikidata.org/entity/Q96694766  ...     https://www.skbl.se/sv/artikel/AlfaSofiaOlsson\n",
       "1217   http://www.wikidata.org/entity/Q4948018  ...          https://www.skbl.se/sv/artikel/EddieFigge\n",
       "1218   http://www.wikidata.org/entity/Q4953537  ...         https://www.skbl.se/sv/artikel/ElliHemberg\n",
       "1219   http://www.wikidata.org/entity/Q4975150  ...  https://www.skbl.se/sv/artikel/BirgitMariaMagn...\n",
       "\n",
       "[1220 rows x 12 columns]"
      ]
     },
     "execution_count": 11,
     "metadata": {},
     "output_type": "execute_result"
    }
   ],
   "source": [
    "resultsSKBL"
   ]
  },
  {
   "cell_type": "markdown",
   "metadata": {},
   "source": [
    "5. Load the data to Kepler.gl    \n",
    "\n",
    "**OBS** this part works only if you run [Jupiter Notebook](https://jupyter.org/install.html) on your local machine\n",
    "\n",
    "your current map configuration\n",
    "* about saving the [config in Kepler.gl](https://docs.kepler.gl/docs/keplergl-jupyter#5-save-and-load-config)"
   ]
  },
  {
   "cell_type": "code",
   "execution_count": 13,
   "metadata": {
    "scrolled": true
   },
   "outputs": [
    {
     "name": "stdout",
     "output_type": "stream",
     "text": [
      "User Guide: https://docs.kepler.gl/docs/keplergl-jupyter\n"
     ]
    },
    {
     "data": {
      "application/vnd.jupyter.widget-view+json": {
       "model_id": "d1be86f8d09c422898472681cde478c6",
       "version_major": 2,
       "version_minor": 0
      },
      "text/plain": [
       "KeplerGl(data={'SKBL': {'index': [0, 1, 2, 3, 4, 5, 6, 7, 8, 9, 10, 11, 12, 13, 14, 15, 16, 17, 18, 19, 20, 21…"
      ]
     },
     "metadata": {},
     "output_type": "display_data"
    }
   ],
   "source": [
    "#Show data in Kepler.gl map is nor shown in GITHUB \n",
    "import geopandas as gpd   \n",
    "from keplergl import KeplerGl #importing KeplerGl\n",
    "gdfSKBL = gpd.GeoDataFrame(resultsSKBL, geometry=gpd.points_from_xy(resultsSKBL.origin_longitude, resultsSKBL.origin_latitude))\n",
    "SKBL = KeplerGl(height=600, width=800)  \n",
    "SKBL.add_data(data=gdfSKBL, name=\"SKBL\") \n",
    "SKBL #show the map not seen when file uploaded to GITHUB \n"
   ]
  },
  {
   "cell_type": "markdown",
   "metadata": {},
   "source": [
    "More about config and saving of kepler.gl\n",
    "* [Save and export](https://docs.kepler.gl/docs/user-guides/k-save-and-export)\n",
    "\n",
    "More links \n",
    "* [How to Create Eye-Catching Maps With Python and Kepler](https://medium.com/nightingale/how-to-create-eye-catching-maps-with-python-and-kepler-gl-e7e897eff8ac#fe6b-d40ec8d73bab)\n",
    "* The Programming Historian today: [Introduction to Jupyter Notebooks](https://programminghistorian.org/en/lessons/jupyter-notebooks)"
   ]
  },
  {
   "cell_type": "code",
   "execution_count": 14,
   "metadata": {},
   "outputs": [],
   "source": [
    "gdfSKBL.to_file(\"SKBL.geojson\", driver='GeoJSON')"
   ]
  },
  {
   "cell_type": "markdown",
   "metadata": {},
   "source": [
    "* see [raw file](https://raw.githubusercontent.com/salgo60/SKBLWikidata/master/web/SKBL.geojson)\n",
    "* test [websida]"
   ]
  }
 ],
 "metadata": {
  "kernelspec": {
   "display_name": "Python 3",
   "language": "python",
   "name": "python3"
  },
  "language_info": {
   "codemirror_mode": {
    "name": "ipython",
    "version": 3
   },
   "file_extension": ".py",
   "mimetype": "text/x-python",
   "name": "python",
   "nbconvert_exporter": "python",
   "pygments_lexer": "ipython3",
   "version": "3.8.0"
  }
 },
 "nbformat": 4,
 "nbformat_minor": 4
}
